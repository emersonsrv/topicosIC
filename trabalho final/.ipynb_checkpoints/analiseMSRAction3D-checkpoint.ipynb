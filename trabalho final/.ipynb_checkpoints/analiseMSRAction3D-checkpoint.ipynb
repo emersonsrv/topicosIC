{
 "cells": [
  {
   "cell_type": "code",
   "execution_count": 3,
   "metadata": {},
   "outputs": [],
   "source": [
    "import pandas\n",
    "\n",
    "basePath = '../MSRAction3D/skeleton/'\n",
    "\n",
    "#Carrega instancia do arquivo\n",
    "def loadData(action, subject, instance):\n",
    "    ins = np.loadtxt(basePath + 'a%02i_s%02i_e%02i_skeleton.txt'%(action, subject, instance))\n",
    "    ins = ins.reshape((ins.shape[0]//20, 20, 4))\n",
    "    return ins\n",
    "\n",
    "#Cria tabela com coordenadas especificas de todas as instancias da ação\n",
    "def framesByCoords(action, coords):\n",
    "    table = []\n",
    "    for subject in range(1, 11):\n",
    "        for instance in [1, 2, 3]:\n",
    "            try:\n",
    "                data = loadData(action, subject, instance)\n",
    "            except IOError:\n",
    "                continue\n",
    "            \n",
    "            for frame in data:\n",
    "                table.append(frame[:, coords].T.flat[:])\n",
    "    table = pandas.DataFrame(table)\n",
    "    return table\n"
   ]
  },
  {
   "cell_type": "code",
   "execution_count": 4,
   "metadata": {
    "scrolled": true
   },
   "outputs": [
    {
     "ename": "ValueError",
     "evalue": "Length mismatch: Expected axis has 60 elements, new values have 40 elements",
     "output_type": "error",
     "traceback": [
      "\u001b[0;31m---------------------------------------------------------------------------\u001b[0m",
      "\u001b[0;31mValueError\u001b[0m                                Traceback (most recent call last)",
      "\u001b[0;32m<ipython-input-4-15f7471aee40>\u001b[0m in \u001b[0;36m<module>\u001b[0;34m\u001b[0m\n\u001b[1;32m      6\u001b[0m     \u001b[0mcols\u001b[0m\u001b[0;34m.\u001b[0m\u001b[0mappend\u001b[0m\u001b[0;34m(\u001b[0m\u001b[0;34m'x%d'\u001b[0m\u001b[0;34m%\u001b[0m\u001b[0;34m(\u001b[0m\u001b[0mi\u001b[0m\u001b[0;34m)\u001b[0m\u001b[0;34m)\u001b[0m\u001b[0;34m\u001b[0m\u001b[0;34m\u001b[0m\u001b[0m\n\u001b[1;32m      7\u001b[0m     \u001b[0mcols\u001b[0m\u001b[0;34m.\u001b[0m\u001b[0mappend\u001b[0m\u001b[0;34m(\u001b[0m\u001b[0;34m'y%d'\u001b[0m\u001b[0;34m%\u001b[0m\u001b[0;34m(\u001b[0m\u001b[0mi\u001b[0m\u001b[0;34m)\u001b[0m\u001b[0;34m)\u001b[0m\u001b[0;34m\u001b[0m\u001b[0;34m\u001b[0m\u001b[0m\n\u001b[0;32m----> 8\u001b[0;31m \u001b[0mtable\u001b[0m\u001b[0;34m.\u001b[0m\u001b[0mcolumns\u001b[0m \u001b[0;34m=\u001b[0m \u001b[0mcols\u001b[0m\u001b[0;34m\u001b[0m\u001b[0;34m\u001b[0m\u001b[0m\n\u001b[0m\u001b[1;32m      9\u001b[0m \u001b[0mprint\u001b[0m\u001b[0;34m(\u001b[0m\u001b[0mtable\u001b[0m\u001b[0;34m.\u001b[0m\u001b[0mshape\u001b[0m\u001b[0;34m)\u001b[0m\u001b[0;34m\u001b[0m\u001b[0;34m\u001b[0m\u001b[0m\n\u001b[1;32m     10\u001b[0m \u001b[0mprint\u001b[0m\u001b[0;34m(\u001b[0m\u001b[0mtable\u001b[0m\u001b[0;34m.\u001b[0m\u001b[0mhead\u001b[0m\u001b[0;34m(\u001b[0m\u001b[0;34m)\u001b[0m\u001b[0;34m)\u001b[0m\u001b[0;34m\u001b[0m\u001b[0;34m\u001b[0m\u001b[0m\n",
      "\u001b[0;32m~/.local/lib/python3.6/site-packages/pandas/core/generic.py\u001b[0m in \u001b[0;36m__setattr__\u001b[0;34m(self, name, value)\u001b[0m\n\u001b[1;32m   4387\u001b[0m         \u001b[0;32mtry\u001b[0m\u001b[0;34m:\u001b[0m\u001b[0;34m\u001b[0m\u001b[0;34m\u001b[0m\u001b[0m\n\u001b[1;32m   4388\u001b[0m             \u001b[0mobject\u001b[0m\u001b[0;34m.\u001b[0m\u001b[0m__getattribute__\u001b[0m\u001b[0;34m(\u001b[0m\u001b[0mself\u001b[0m\u001b[0;34m,\u001b[0m \u001b[0mname\u001b[0m\u001b[0;34m)\u001b[0m\u001b[0;34m\u001b[0m\u001b[0;34m\u001b[0m\u001b[0m\n\u001b[0;32m-> 4389\u001b[0;31m             \u001b[0;32mreturn\u001b[0m \u001b[0mobject\u001b[0m\u001b[0;34m.\u001b[0m\u001b[0m__setattr__\u001b[0m\u001b[0;34m(\u001b[0m\u001b[0mself\u001b[0m\u001b[0;34m,\u001b[0m \u001b[0mname\u001b[0m\u001b[0;34m,\u001b[0m \u001b[0mvalue\u001b[0m\u001b[0;34m)\u001b[0m\u001b[0;34m\u001b[0m\u001b[0;34m\u001b[0m\u001b[0m\n\u001b[0m\u001b[1;32m   4390\u001b[0m         \u001b[0;32mexcept\u001b[0m \u001b[0mAttributeError\u001b[0m\u001b[0;34m:\u001b[0m\u001b[0;34m\u001b[0m\u001b[0;34m\u001b[0m\u001b[0m\n\u001b[1;32m   4391\u001b[0m             \u001b[0;32mpass\u001b[0m\u001b[0;34m\u001b[0m\u001b[0;34m\u001b[0m\u001b[0m\n",
      "\u001b[0;32mpandas/_libs/properties.pyx\u001b[0m in \u001b[0;36mpandas._libs.properties.AxisProperty.__set__\u001b[0;34m()\u001b[0m\n",
      "\u001b[0;32m~/.local/lib/python3.6/site-packages/pandas/core/generic.py\u001b[0m in \u001b[0;36m_set_axis\u001b[0;34m(self, axis, labels)\u001b[0m\n\u001b[1;32m    644\u001b[0m \u001b[0;34m\u001b[0m\u001b[0m\n\u001b[1;32m    645\u001b[0m     \u001b[0;32mdef\u001b[0m \u001b[0m_set_axis\u001b[0m\u001b[0;34m(\u001b[0m\u001b[0mself\u001b[0m\u001b[0;34m,\u001b[0m \u001b[0maxis\u001b[0m\u001b[0;34m,\u001b[0m \u001b[0mlabels\u001b[0m\u001b[0;34m)\u001b[0m\u001b[0;34m:\u001b[0m\u001b[0;34m\u001b[0m\u001b[0;34m\u001b[0m\u001b[0m\n\u001b[0;32m--> 646\u001b[0;31m         \u001b[0mself\u001b[0m\u001b[0;34m.\u001b[0m\u001b[0m_data\u001b[0m\u001b[0;34m.\u001b[0m\u001b[0mset_axis\u001b[0m\u001b[0;34m(\u001b[0m\u001b[0maxis\u001b[0m\u001b[0;34m,\u001b[0m \u001b[0mlabels\u001b[0m\u001b[0;34m)\u001b[0m\u001b[0;34m\u001b[0m\u001b[0;34m\u001b[0m\u001b[0m\n\u001b[0m\u001b[1;32m    647\u001b[0m         \u001b[0mself\u001b[0m\u001b[0;34m.\u001b[0m\u001b[0m_clear_item_cache\u001b[0m\u001b[0;34m(\u001b[0m\u001b[0;34m)\u001b[0m\u001b[0;34m\u001b[0m\u001b[0;34m\u001b[0m\u001b[0m\n\u001b[1;32m    648\u001b[0m \u001b[0;34m\u001b[0m\u001b[0m\n",
      "\u001b[0;32m~/.local/lib/python3.6/site-packages/pandas/core/internals.py\u001b[0m in \u001b[0;36mset_axis\u001b[0;34m(self, axis, new_labels)\u001b[0m\n\u001b[1;32m   3321\u001b[0m             raise ValueError(\n\u001b[1;32m   3322\u001b[0m                 \u001b[0;34m'Length mismatch: Expected axis has {old} elements, new '\u001b[0m\u001b[0;34m\u001b[0m\u001b[0;34m\u001b[0m\u001b[0m\n\u001b[0;32m-> 3323\u001b[0;31m                 'values have {new} elements'.format(old=old_len, new=new_len))\n\u001b[0m\u001b[1;32m   3324\u001b[0m \u001b[0;34m\u001b[0m\u001b[0m\n\u001b[1;32m   3325\u001b[0m         \u001b[0mself\u001b[0m\u001b[0;34m.\u001b[0m\u001b[0maxes\u001b[0m\u001b[0;34m[\u001b[0m\u001b[0maxis\u001b[0m\u001b[0;34m]\u001b[0m \u001b[0;34m=\u001b[0m \u001b[0mnew_labels\u001b[0m\u001b[0;34m\u001b[0m\u001b[0;34m\u001b[0m\u001b[0m\n",
      "\u001b[0;31mValueError\u001b[0m: Length mismatch: Expected axis has 60 elements, new values have 40 elements"
     ]
    }
   ],
   "source": [
    "#Seleciona a ação 1, coordenadas 0 e 1(x e y)\n",
    "table = framesByCoords(1, [0, 1, 2])\n",
    "\n",
    "cols = []\n",
    "for i in range(1, 21):\n",
    "    cols.append('x%d'%(i))\n",
    "    cols.append('y%d'%(i))\n",
    "    cols.append('z%d'%(i))\n",
    "table.columns = cols\n",
    "print(table.shape)\n",
    "print(table.head())\n"
   ]
  },
  {
   "cell_type": "code",
   "execution_count": 6,
   "metadata": {},
   "outputs": [
    {
     "name": "stdout",
     "output_type": "stream",
     "text": [
      "\t mean\t var\t std\t min\t max\n",
      "x1\t 122.8\t 40.14\t 6.34\t 107.0\t 161.0\t\n",
      "y1\t 157.3\t 74.41\t 8.63\t 114.0\t 172.0\t\n",
      "x2\t 136.7\t 36.97\t 6.08\t 117.0\t 159.0\t\n",
      "y2\t 142.5\t 54.93\t 7.41\t 112.0\t 165.0\t\n",
      "x3\t 123.8\t 47.60\t 6.90\t 107.0\t 154.0\t\n",
      "y3\t 158.1\t 43.09\t 6.56\t 127.0\t 169.0\t\n",
      "x4\t 144.1\t 60.10\t 7.75\t 112.0\t 163.0\t\n",
      "y4\t 117.1\t 58.65\t 7.66\t 102.0\t 163.0\t\n",
      "x5\t 166.7\t 212.35\t 14.57\t 96.0\t 200.0\t\n",
      "y5\t 117.9\t 99.32\t 9.97\t 102.0\t 191.0\t\n",
      "x6\t 166.1\t 670.08\t 25.89\t 70.0\t 231.0\t\n",
      "y6\t 118.8\t 111.97\t 10.58\t 99.0\t 193.0\t\n",
      "x7\t 166.1\t 877.28\t 29.62\t 62.0\t 240.0\t\n",
      "y7\t 130.5\t 53.58\t 7.32\t 120.0\t 158.0\t\n",
      "x8\t 151.7\t 53.64\t 7.32\t 124.0\t 161.0\t\n",
      "y8\t 132.3\t 138.52\t 11.77\t 120.0\t 175.0\t\n",
      "x9\t 150.7\t 117.86\t 10.86\t 117.0\t 164.0\t\n",
      "y9\t 126.9\t 208.37\t 14.43\t 109.0\t 169.0\t\n",
      "x10\t 147.8\t 83.41\t 9.13\t 113.0\t 165.0\t\n",
      "y10\t 139.5\t 41.92\t 6.47\t 105.0\t 161.0\t\n",
      "x11\t 88.5\t 74.03\t 8.60\t 75.0\t 140.0\t\n",
      "y11\t 86.2\t 70.30\t 8.38\t 73.0\t 132.0\t\n",
      "x12\t 79.5\t 73.75\t 8.59\t 67.0\t 120.0\t\n",
      "y12\t 102.8\t 64.63\t 8.04\t 93.0\t 141.0\t\n",
      "x13\t 123.7\t 55.84\t 7.47\t 109.0\t 158.0\t\n",
      "y13\t 124.0\t 47.71\t 6.91\t 106.0\t 163.0\t\n",
      "x14\t 124.3\t 56.19\t 7.50\t 112.0\t 163.0\t\n",
      "y14\t 113.5\t 70.46\t 8.39\t 66.0\t 130.0\t\n",
      "x15\t 88.6\t 644.56\t 25.39\t 48.0\t 152.0\t\n",
      "y15\t 141.7\t 230.89\t 15.19\t 57.0\t 162.0\t\n",
      "x16\t 84.3\t 2665.47\t 51.63\t 12.0\t 178.0\t\n",
      "y16\t 148.3\t 302.14\t 17.38\t 54.0\t 170.0\t\n",
      "x17\t 83.6\t 3349.22\t 57.87\t 1.0\t 185.0\t\n",
      "y17\t 180.7\t 30.53\t 5.53\t 171.0\t 211.0\t\n",
      "x18\t 180.9\t 28.64\t 5.35\t 169.0\t 206.0\t\n",
      "y18\t 220.8\t 91.25\t 9.55\t 190.0\t 251.0\t\n",
      "x19\t 221.7\t 66.77\t 8.17\t 200.0\t 245.0\t\n",
      "y19\t 230.6\t 90.41\t 9.51\t 213.0\t 261.0\t\n",
      "x20\t 231.1\t 74.91\t 8.65\t 216.0\t 248.0\t\n",
      "y20\t 55.3\t 129.03\t 11.36\t 37.0\t 107.0\t\n"
     ]
    }
   ],
   "source": [
    "# Média, variancia, desvio padrão, minimo e máximo de cada coluna \n",
    "print('\\t mean\\t var\\t std\\t min\\t max')\n",
    "for col in table.columns:\n",
    "    print('%s\\t %.1f\\t %.2f\\t %.2f\\t %.1f\\t %.1f\\t'%\n",
    "          (col, table[col].mean(), table[col].var(), table[col].std(), table[col].min(), table[col].max()))"
   ]
  },
  {
   "cell_type": "code",
   "execution_count": null,
   "metadata": {},
   "outputs": [],
   "source": []
  },
  {
   "cell_type": "code",
   "execution_count": null,
   "metadata": {},
   "outputs": [],
   "source": []
  },
  {
   "cell_type": "code",
   "execution_count": null,
   "metadata": {},
   "outputs": [],
   "source": []
  }
 ],
 "metadata": {
  "kernelspec": {
   "display_name": "Python 3",
   "language": "python",
   "name": "python3"
  },
  "language_info": {
   "codemirror_mode": {
    "name": "ipython",
    "version": 3
   },
   "file_extension": ".py",
   "mimetype": "text/x-python",
   "name": "python",
   "nbconvert_exporter": "python",
   "pygments_lexer": "ipython3",
   "version": "3.6.7"
  }
 },
 "nbformat": 4,
 "nbformat_minor": 2
}
