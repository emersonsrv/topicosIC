{
 "cells": [
  {
   "cell_type": "code",
   "execution_count": 1,
   "metadata": {},
   "outputs": [],
   "source": [
    "import pandas\n",
    "import numpy as np\n",
    "import matplotlib.pyplot as plt\n",
    "from matplotlib.animation import FuncAnimation\n",
    "import time, math\n",
    "import scipy.stats as stats\n",
    "\n",
    "from sklearn.decomposition import PCA\n",
    "from sklearn.preprocessing import StandardScaler\n",
    "\n",
    "\n",
    "basePath = '../MSRAction3D/skeleton/'\n",
    "\n",
    "## Carrega instancia do arquivo\n",
    "def loadData(action, subject, instance):\n",
    "\tins = np.loadtxt(basePath + 'a%02i_s%02i_e%02i_skeleton.txt'%(action, subject, instance))\n",
    "\tins = ins.reshape((ins.shape[0]//20, 20, 4))\n",
    "\treturn ins\n",
    "\n",
    "## Cria dicionario com toda a base de dados\n",
    "def loadBase():\n",
    "\tbase = {}\n",
    "\tfor action in range(1, 21):\n",
    "\t\tbase[action] = {}\n",
    "\t\tfor subject in range(1, 11):\n",
    "\t\t\tbase[action][subject] = {}\n",
    "\t\t\tfor instance in [1, 2, 3]:\n",
    "\t\t\t\ttry:\n",
    "\t\t\t\t\tdata = loadData(action, subject, instance)\n",
    "\t\t\t\texcept IOError:\n",
    "\t\t\t\t\tcontinue\n",
    "\t\t\t\tbase[action][subject][instance] = data\n",
    "\n",
    "\treturn base\n",
    "\n",
    "\n",
    "base = loadBase()"
   ]
  },
  {
   "cell_type": "code",
   "execution_count": 2,
   "metadata": {},
   "outputs": [],
   "source": [
    "## Padroniza o numero de frames\n",
    "## Cria tabela com instancias por frames por cords\n",
    "def formatTable(action, coords, n_frames):\n",
    "\talpha = 0.5\n",
    "\ttable = []\n",
    "\tpca = PCA(n_components=2)\n",
    "\tfor subject in base[action]:\n",
    "\t\tfor instance in base[action][subject]:\n",
    "\t\t\t#print(len(base[action][subject][instance]), end=' ')\n",
    "\n",
    "\t\t\tframes = [frame[:, coords].T.flat[:] for frame in base[action][subject][instance]]\n",
    "\t\t\t\n",
    "\t\t\t##padronizar nro de frames n_frames\n",
    "\t\t\ta, b = math.ceil((len(frames)-n_frames)/2), (len(frames)-n_frames)//2\n",
    "\t\t\t#for i in range(1, table.size-1):\n",
    "\t\t\t#\tstat, p = stats.kruskal(table.loc[i, :], table.loc[i-1, :])\n",
    "\t\t\tif b>0:\n",
    "\t\t\t\tframes = frames[a:-b]\n",
    "\t\t\telif a>0:\n",
    "\t\t\t\tframes = frames[a:]\n",
    "\t\t\t\n",
    "\t\t\t\n",
    "\t\t\t## reduz valores para 2 componentes com PCA\n",
    "\t\t\tx = StandardScaler().fit_transform(frames)\n",
    "\t\t\tprincipalComponents = pca.fit_transform(x)\n",
    "\t\t\t\n",
    "\t\t\t## linha  \n",
    "\t\t\ttable.append(list(principalComponents.T.flat))\n",
    "\t\t\t#print(principalComponents.shape)\n",
    "\t\t\t\n",
    "\ttable = pandas.DataFrame(table)\n",
    "\treturn table\n",
    "\n",
    "n_frames = 31\n",
    "table = formatTable(1, [0, 1, 2], n_frames)"
   ]
  },
  {
   "cell_type": "code",
   "execution_count": 3,
   "metadata": {},
   "outputs": [
    {
     "ename": "ValueError",
     "evalue": "Length mismatch: Expected axis has 62 elements, new values have 60 elements",
     "output_type": "error",
     "traceback": [
      "\u001b[0;31m---------------------------------------------------------------------------\u001b[0m",
      "\u001b[0;31mValueError\u001b[0m                                Traceback (most recent call last)",
      "\u001b[0;32m<ipython-input-3-017a2b134979>\u001b[0m in \u001b[0;36m<module>\u001b[0;34m\u001b[0m\n\u001b[1;32m      4\u001b[0m     \u001b[0mcols\u001b[0m\u001b[0;34m.\u001b[0m\u001b[0mappend\u001b[0m\u001b[0;34m(\u001b[0m\u001b[0;34m'x%d'\u001b[0m\u001b[0;34m%\u001b[0m\u001b[0;34m(\u001b[0m\u001b[0mi\u001b[0m\u001b[0;34m)\u001b[0m\u001b[0;34m)\u001b[0m\u001b[0;34m\u001b[0m\u001b[0;34m\u001b[0m\u001b[0m\n\u001b[1;32m      5\u001b[0m     \u001b[0mcols\u001b[0m\u001b[0;34m.\u001b[0m\u001b[0mappend\u001b[0m\u001b[0;34m(\u001b[0m\u001b[0;34m'y%d'\u001b[0m\u001b[0;34m%\u001b[0m\u001b[0;34m(\u001b[0m\u001b[0mi\u001b[0m\u001b[0;34m)\u001b[0m\u001b[0;34m)\u001b[0m\u001b[0;34m\u001b[0m\u001b[0;34m\u001b[0m\u001b[0m\n\u001b[0;32m----> 6\u001b[0;31m \u001b[0mtable\u001b[0m\u001b[0;34m.\u001b[0m\u001b[0mcolumns\u001b[0m \u001b[0;34m=\u001b[0m \u001b[0mcols\u001b[0m\u001b[0;34m\u001b[0m\u001b[0;34m\u001b[0m\u001b[0m\n\u001b[0m\u001b[1;32m      7\u001b[0m \u001b[0mprint\u001b[0m\u001b[0;34m(\u001b[0m\u001b[0mtable\u001b[0m\u001b[0;34m)\u001b[0m\u001b[0;34m\u001b[0m\u001b[0;34m\u001b[0m\u001b[0m\n",
      "\u001b[0;32m~/.local/lib/python3.6/site-packages/pandas/core/generic.py\u001b[0m in \u001b[0;36m__setattr__\u001b[0;34m(self, name, value)\u001b[0m\n\u001b[1;32m   4387\u001b[0m         \u001b[0;32mtry\u001b[0m\u001b[0;34m:\u001b[0m\u001b[0;34m\u001b[0m\u001b[0;34m\u001b[0m\u001b[0m\n\u001b[1;32m   4388\u001b[0m             \u001b[0mobject\u001b[0m\u001b[0;34m.\u001b[0m\u001b[0m__getattribute__\u001b[0m\u001b[0;34m(\u001b[0m\u001b[0mself\u001b[0m\u001b[0;34m,\u001b[0m \u001b[0mname\u001b[0m\u001b[0;34m)\u001b[0m\u001b[0;34m\u001b[0m\u001b[0;34m\u001b[0m\u001b[0m\n\u001b[0;32m-> 4389\u001b[0;31m             \u001b[0;32mreturn\u001b[0m \u001b[0mobject\u001b[0m\u001b[0;34m.\u001b[0m\u001b[0m__setattr__\u001b[0m\u001b[0;34m(\u001b[0m\u001b[0mself\u001b[0m\u001b[0;34m,\u001b[0m \u001b[0mname\u001b[0m\u001b[0;34m,\u001b[0m \u001b[0mvalue\u001b[0m\u001b[0;34m)\u001b[0m\u001b[0;34m\u001b[0m\u001b[0;34m\u001b[0m\u001b[0m\n\u001b[0m\u001b[1;32m   4390\u001b[0m         \u001b[0;32mexcept\u001b[0m \u001b[0mAttributeError\u001b[0m\u001b[0;34m:\u001b[0m\u001b[0;34m\u001b[0m\u001b[0;34m\u001b[0m\u001b[0m\n\u001b[1;32m   4391\u001b[0m             \u001b[0;32mpass\u001b[0m\u001b[0;34m\u001b[0m\u001b[0;34m\u001b[0m\u001b[0m\n",
      "\u001b[0;32mpandas/_libs/properties.pyx\u001b[0m in \u001b[0;36mpandas._libs.properties.AxisProperty.__set__\u001b[0;34m()\u001b[0m\n",
      "\u001b[0;32m~/.local/lib/python3.6/site-packages/pandas/core/generic.py\u001b[0m in \u001b[0;36m_set_axis\u001b[0;34m(self, axis, labels)\u001b[0m\n\u001b[1;32m    644\u001b[0m \u001b[0;34m\u001b[0m\u001b[0m\n\u001b[1;32m    645\u001b[0m     \u001b[0;32mdef\u001b[0m \u001b[0m_set_axis\u001b[0m\u001b[0;34m(\u001b[0m\u001b[0mself\u001b[0m\u001b[0;34m,\u001b[0m \u001b[0maxis\u001b[0m\u001b[0;34m,\u001b[0m \u001b[0mlabels\u001b[0m\u001b[0;34m)\u001b[0m\u001b[0;34m:\u001b[0m\u001b[0;34m\u001b[0m\u001b[0;34m\u001b[0m\u001b[0m\n\u001b[0;32m--> 646\u001b[0;31m         \u001b[0mself\u001b[0m\u001b[0;34m.\u001b[0m\u001b[0m_data\u001b[0m\u001b[0;34m.\u001b[0m\u001b[0mset_axis\u001b[0m\u001b[0;34m(\u001b[0m\u001b[0maxis\u001b[0m\u001b[0;34m,\u001b[0m \u001b[0mlabels\u001b[0m\u001b[0;34m)\u001b[0m\u001b[0;34m\u001b[0m\u001b[0;34m\u001b[0m\u001b[0m\n\u001b[0m\u001b[1;32m    647\u001b[0m         \u001b[0mself\u001b[0m\u001b[0;34m.\u001b[0m\u001b[0m_clear_item_cache\u001b[0m\u001b[0;34m(\u001b[0m\u001b[0;34m)\u001b[0m\u001b[0;34m\u001b[0m\u001b[0;34m\u001b[0m\u001b[0m\n\u001b[1;32m    648\u001b[0m \u001b[0;34m\u001b[0m\u001b[0m\n",
      "\u001b[0;32m~/.local/lib/python3.6/site-packages/pandas/core/internals.py\u001b[0m in \u001b[0;36mset_axis\u001b[0;34m(self, axis, new_labels)\u001b[0m\n\u001b[1;32m   3321\u001b[0m             raise ValueError(\n\u001b[1;32m   3322\u001b[0m                 \u001b[0;34m'Length mismatch: Expected axis has {old} elements, new '\u001b[0m\u001b[0;34m\u001b[0m\u001b[0;34m\u001b[0m\u001b[0m\n\u001b[0;32m-> 3323\u001b[0;31m                 'values have {new} elements'.format(old=old_len, new=new_len))\n\u001b[0m\u001b[1;32m   3324\u001b[0m \u001b[0;34m\u001b[0m\u001b[0m\n\u001b[1;32m   3325\u001b[0m         \u001b[0mself\u001b[0m\u001b[0;34m.\u001b[0m\u001b[0maxes\u001b[0m\u001b[0;34m[\u001b[0m\u001b[0maxis\u001b[0m\u001b[0;34m]\u001b[0m \u001b[0;34m=\u001b[0m \u001b[0mnew_labels\u001b[0m\u001b[0;34m\u001b[0m\u001b[0;34m\u001b[0m\u001b[0m\n",
      "\u001b[0;31mValueError\u001b[0m: Length mismatch: Expected axis has 62 elements, new values have 60 elements"
     ]
    }
   ],
   "source": [
    "\n",
    "cols = []\n",
    "for i in range(n_frames):\n",
    "    cols.append('x%d'%(i))\n",
    "    cols.append('y%d'%(i))\n",
    "table.columns = cols\n",
    "print(table)"
   ]
  },
  {
   "cell_type": "code",
   "execution_count": 24,
   "metadata": {},
   "outputs": [
    {
     "data": {
      "text/plain": [
       "0     [1.0, 127.0, 81.0, 164.0, 82.0, 144.0, 75.0, 1...\n",
       "1     [2.0, 123.0, 83.0, 155.0, 77.0, 132.0, 74.0, 1...\n",
       "2     [3.0, 122.0, 82.0, 153.0, 76.0, 130.0, 73.0, 1...\n",
       "3     [4.0, 138.0, 111.0, 156.0, 92.0, 136.0, 94.0, ...\n",
       "4     [5.0, 132.0, 96.0, 142.0, 115.0, 148.0, 99.0, ...\n",
       "5     [6.0, 132.0, 120.0, 155.0, 119.0, 136.0, 110.0...\n",
       "6     [7.0, 122.0, 88.0, 157.0, 77.0, 130.0, 74.0, 1...\n",
       "7     [8.0, 122.0, 85.0, 163.0, 81.0, 136.0, 74.0, 1...\n",
       "8     [9.0, 122.0, 84.0, 163.0, 80.0, 137.0, 73.0, 1...\n",
       "9     [10.0, 111.0, 93.0, 151.0, 91.0, 128.0, 85.0, ...\n",
       "10    [11.0, 109.0, 97.0, 145.0, 92.0, 122.0, 88.0, ...\n",
       "11    [12.0, 111.0, 94.0, 152.0, 92.0, 129.0, 86.0, ...\n",
       "12    [13.0, 125.0, 91.0, 155.0, 88.0, 135.0, 81.0, ...\n",
       "13    [14.0, 122.0, 88.0, 157.0, 86.0, 137.0, 79.0, ...\n",
       "14    [15.0, 124.0, 89.0, 156.0, 86.0, 137.0, 79.0, ...\n",
       "15    [16.0, 118.0, 93.0, 152.0, 85.0, 128.0, 81.0, ...\n",
       "16    [17.0, 118.0, 88.0, 152.0, 84.0, 130.0, 78.0, ...\n",
       "17    [18.0, 122.0, 90.0, 154.0, 82.0, 130.0, 77.0, ...\n",
       "18    [19.0, 125.0, 79.0, 168.0, 79.0, 142.0, 69.0, ...\n",
       "19    [20.0, 124.0, 78.0, 168.0, 77.0, 142.0, 67.0, ...\n",
       "20    [21.0, 123.0, 79.0, 169.0, 78.0, 143.0, 69.0, ...\n",
       "21    [22.0, 124.0, 87.0, 152.0, 84.0, 135.0, 80.0, ...\n",
       "22    [23.0, 126.0, 86.0, 156.0, 85.0, 139.0, 80.0, ...\n",
       "23    [24.0, 134.0, 87.0, 163.0, 83.0, 146.0, 80.0, ...\n",
       "24    [25.0, 121.0, 87.0, 157.0, 86.0, 138.0, 80.0, ...\n",
       "25    [26.0, 118.0, 87.0, 153.0, 86.0, 133.0, 81.0, ...\n",
       "26    [27.0, 120.0, 87.0, 157.0, 86.0, 137.0, 80.0, ...\n",
       "Name: 30, dtype: object"
      ]
     },
     "execution_count": 24,
     "metadata": {},
     "output_type": "execute_result"
    }
   ],
   "source": []
  },
  {
   "cell_type": "code",
   "execution_count": null,
   "metadata": {},
   "outputs": [],
   "source": []
  }
 ],
 "metadata": {
  "kernelspec": {
   "display_name": "Python 3",
   "language": "python",
   "name": "python3"
  },
  "language_info": {
   "codemirror_mode": {
    "name": "ipython",
    "version": 3
   },
   "file_extension": ".py",
   "mimetype": "text/x-python",
   "name": "python",
   "nbconvert_exporter": "python",
   "pygments_lexer": "ipython3",
   "version": "3.6.7"
  }
 },
 "nbformat": 4,
 "nbformat_minor": 2
}
