{
 "cells": [
  {
   "cell_type": "code",
   "execution_count": 31,
   "metadata": {},
   "outputs": [],
   "source": [
    "import pandas\n",
    "import numpy\n",
    "\n",
    "basePath = '../MSRAction3D/skeleton/'\n",
    "\n",
    "#Carrega instancia do arquivo\n",
    "def loadData(action, subject, instance):\n",
    "    ins = np.loadtxt(basePath + 'a%02i_s%02i_e%02i_skeleton.txt'%(action, subject, instance))\n",
    "    ins = ins.reshape((ins.shape[0]//20, 20, 4))\n",
    "    return ins\n",
    "\n",
    "#Cria dicionario com toda a base de dados\n",
    "def loadBase():\n",
    "    base = {}\n",
    "    for action in range(1, 21):\n",
    "        base[action] = {}\n",
    "        for subject in range(1, 11):\n",
    "            base[action][subject] = {}\n",
    "            for instance in [1, 2, 3]:\n",
    "                try:\n",
    "                    data = loadData(action, subject, instance)\n",
    "                except IOError:\n",
    "                    continue\n",
    "                \n",
    "                base[action][subject][instance] = data\n",
    "    \n",
    "    return base\n",
    "\n",
    "base = loadBase()\n",
    "\n",
    "#Cria tabela com coordenadas especificas de todas as instancias da ação\n",
    "def framesByCoords(action, coords):\n",
    "    table = []\n",
    "    for subject in base[action]:\n",
    "        for instance in base[action][subject]:\n",
    "            i = 1\n",
    "            for frame in base[action][subject][instance]:\n",
    "                table.append(numpy.append([i], frame[:, coords].T.flat[:]))\n",
    "                i += 1\n",
    "    table = pandas.DataFrame(table)\n",
    "    return table\n",
    "\n",
    "#Cria tabela com instancias por frames por cords\n",
    "def instancesByframesByCoords(action, coords):\n",
    "    table = []\n",
    "    for subject in base[action]:\n",
    "        for instance in base[action][subject]:\n",
    "            #print(len(base[action][subject][instance]), end=' ')\n",
    "            \n",
    "            row = [frame[:, coords].flat[:] for frame in base[action][subject][instance]]\n",
    "            table.append(pandas.DataFrame(row))\n",
    "    print()\n",
    "    #table = pandas.DataFrame(table)\n",
    "    return table"
   ]
  },
  {
   "cell_type": "code",
   "execution_count": 32,
   "metadata": {},
   "outputs": [
    {
     "name": "stdout",
     "output_type": "stream",
     "text": [
      "(1205, 41)\n",
      "   frame     x1     y1     x2     y2     x3     y3     x4     y4     x5  ...   \\\n",
      "0    1.0  120.0  158.0  139.0  139.0  124.0  154.0  140.0  114.0  164.0  ...    \n",
      "1    2.0  121.0  159.0  139.0  140.0  124.0  154.0  140.0  114.0  164.0  ...    \n",
      "2    3.0  120.0  158.0  139.0  139.0  124.0  154.0  140.0  114.0  164.0  ...    \n",
      "3    4.0  120.0  158.0  139.0  139.0  124.0  154.0  140.0  113.0  163.0  ...    \n",
      "4    5.0  120.0  158.0  138.0  139.0  124.0  154.0  140.0  114.0  163.0  ...    \n",
      "\n",
      "     x16    y16    x17    y17    x18    y18    x19    y19    x20   y20  \n",
      "0  141.0  146.0  148.0  182.0  182.0  223.0  225.0  233.0  234.0  46.0  \n",
      "1  141.0  147.0  148.0  182.0  182.0  223.0  226.0  233.0  234.0  46.0  \n",
      "2  141.0  147.0  148.0  182.0  182.0  222.0  226.0  233.0  234.0  46.0  \n",
      "3  141.0  147.0  149.0  182.0  182.0  222.0  225.0  232.0  234.0  46.0  \n",
      "4  141.0  147.0  148.0  182.0  182.0  222.0  225.0  233.0  234.0  47.0  \n",
      "\n",
      "[5 rows x 41 columns]\n"
     ]
    }
   ],
   "source": [
    "\n",
    "\n",
    "#Seleciona a ação 1, coordenadas 0 e 1(x e y)\n",
    "table1 = framesByCoords(1, [0, 1])\n",
    "\n",
    "cols = ['frame']\n",
    "for i in range(1, 21):\n",
    "    cols.append('x%d'%(i))\n",
    "    cols.append('y%d'%(i))\n",
    "table1.columns = cols\n",
    "print(table1.shape)\n",
    "print(table1.head())"
   ]
  },
  {
   "cell_type": "code",
   "execution_count": 33,
   "metadata": {},
   "outputs": [
    {
     "name": "stdout",
     "output_type": "stream",
     "text": [
      "\n"
     ]
    },
    {
     "ename": "AttributeError",
     "evalue": "'list' object has no attribute 'shape'",
     "output_type": "error",
     "traceback": [
      "\u001b[0;31m---------------------------------------------------------------------------\u001b[0m",
      "\u001b[0;31mAttributeError\u001b[0m                            Traceback (most recent call last)",
      "\u001b[0;32m<ipython-input-33-807e585a847b>\u001b[0m in \u001b[0;36m<module>\u001b[0;34m\u001b[0m\n\u001b[1;32m      8\u001b[0m     \u001b[0mcols\u001b[0m\u001b[0;34m.\u001b[0m\u001b[0mappend\u001b[0m\u001b[0;34m(\u001b[0m\u001b[0;34m'y%d'\u001b[0m\u001b[0;34m%\u001b[0m\u001b[0;34m(\u001b[0m\u001b[0mi\u001b[0m\u001b[0;34m)\u001b[0m\u001b[0;34m)\u001b[0m\u001b[0;34m\u001b[0m\u001b[0;34m\u001b[0m\u001b[0m\n\u001b[1;32m      9\u001b[0m \u001b[0mtable1\u001b[0m\u001b[0;34m.\u001b[0m\u001b[0mcolumns\u001b[0m \u001b[0;34m=\u001b[0m \u001b[0mcols\u001b[0m\u001b[0;34m\u001b[0m\u001b[0;34m\u001b[0m\u001b[0m\n\u001b[0;32m---> 10\u001b[0;31m \u001b[0mprint\u001b[0m\u001b[0;34m(\u001b[0m\u001b[0mtable2\u001b[0m\u001b[0;34m.\u001b[0m\u001b[0mshape\u001b[0m\u001b[0;34m)\u001b[0m\u001b[0;34m\u001b[0m\u001b[0;34m\u001b[0m\u001b[0m\n\u001b[0m\u001b[1;32m     11\u001b[0m \u001b[0mprint\u001b[0m\u001b[0;34m(\u001b[0m\u001b[0mtable2\u001b[0m\u001b[0;34m.\u001b[0m\u001b[0mhead\u001b[0m\u001b[0;34m(\u001b[0m\u001b[0;34m)\u001b[0m\u001b[0;34m)\u001b[0m\u001b[0;34m\u001b[0m\u001b[0;34m\u001b[0m\u001b[0m\n",
      "\u001b[0;31mAttributeError\u001b[0m: 'list' object has no attribute 'shape'"
     ]
    }
   ],
   "source": [
    "\n",
    "#Seleciona a ação 1, coordenadas 0 e 1(x e y)\n",
    "table2 = instancesByframesByCoords(1, [0, 1])\n",
    "\n",
    "cols = ['frame']\n",
    "for i in range(1, 21):\n",
    "    cols.append('x%d'%(i))\n",
    "    cols.append('y%d'%(i))\n",
    "#table1.columns = cols\n",
    "#print(table2.s)\n",
    "#print(table2.head())"
   ]
  },
  {
   "cell_type": "code",
   "execution_count": 24,
   "metadata": {},
   "outputs": [
    {
     "data": {
      "text/plain": [
       "0     [1.0, 127.0, 81.0, 164.0, 82.0, 144.0, 75.0, 1...\n",
       "1     [2.0, 123.0, 83.0, 155.0, 77.0, 132.0, 74.0, 1...\n",
       "2     [3.0, 122.0, 82.0, 153.0, 76.0, 130.0, 73.0, 1...\n",
       "3     [4.0, 138.0, 111.0, 156.0, 92.0, 136.0, 94.0, ...\n",
       "4     [5.0, 132.0, 96.0, 142.0, 115.0, 148.0, 99.0, ...\n",
       "5     [6.0, 132.0, 120.0, 155.0, 119.0, 136.0, 110.0...\n",
       "6     [7.0, 122.0, 88.0, 157.0, 77.0, 130.0, 74.0, 1...\n",
       "7     [8.0, 122.0, 85.0, 163.0, 81.0, 136.0, 74.0, 1...\n",
       "8     [9.0, 122.0, 84.0, 163.0, 80.0, 137.0, 73.0, 1...\n",
       "9     [10.0, 111.0, 93.0, 151.0, 91.0, 128.0, 85.0, ...\n",
       "10    [11.0, 109.0, 97.0, 145.0, 92.0, 122.0, 88.0, ...\n",
       "11    [12.0, 111.0, 94.0, 152.0, 92.0, 129.0, 86.0, ...\n",
       "12    [13.0, 125.0, 91.0, 155.0, 88.0, 135.0, 81.0, ...\n",
       "13    [14.0, 122.0, 88.0, 157.0, 86.0, 137.0, 79.0, ...\n",
       "14    [15.0, 124.0, 89.0, 156.0, 86.0, 137.0, 79.0, ...\n",
       "15    [16.0, 118.0, 93.0, 152.0, 85.0, 128.0, 81.0, ...\n",
       "16    [17.0, 118.0, 88.0, 152.0, 84.0, 130.0, 78.0, ...\n",
       "17    [18.0, 122.0, 90.0, 154.0, 82.0, 130.0, 77.0, ...\n",
       "18    [19.0, 125.0, 79.0, 168.0, 79.0, 142.0, 69.0, ...\n",
       "19    [20.0, 124.0, 78.0, 168.0, 77.0, 142.0, 67.0, ...\n",
       "20    [21.0, 123.0, 79.0, 169.0, 78.0, 143.0, 69.0, ...\n",
       "21    [22.0, 124.0, 87.0, 152.0, 84.0, 135.0, 80.0, ...\n",
       "22    [23.0, 126.0, 86.0, 156.0, 85.0, 139.0, 80.0, ...\n",
       "23    [24.0, 134.0, 87.0, 163.0, 83.0, 146.0, 80.0, ...\n",
       "24    [25.0, 121.0, 87.0, 157.0, 86.0, 138.0, 80.0, ...\n",
       "25    [26.0, 118.0, 87.0, 153.0, 86.0, 133.0, 81.0, ...\n",
       "26    [27.0, 120.0, 87.0, 157.0, 86.0, 137.0, 80.0, ...\n",
       "Name: 30, dtype: object"
      ]
     },
     "execution_count": 24,
     "metadata": {},
     "output_type": "execute_result"
    }
   ],
   "source": [
    "table2[30]"
   ]
  },
  {
   "cell_type": "code",
   "execution_count": null,
   "metadata": {},
   "outputs": [],
   "source": []
  }
 ],
 "metadata": {
  "kernelspec": {
   "display_name": "Python 3",
   "language": "python",
   "name": "python3"
  },
  "language_info": {
   "codemirror_mode": {
    "name": "ipython",
    "version": 3
   },
   "file_extension": ".py",
   "mimetype": "text/x-python",
   "name": "python",
   "nbconvert_exporter": "python",
   "pygments_lexer": "ipython3",
   "version": "3.6.7"
  }
 },
 "nbformat": 4,
 "nbformat_minor": 2
}
